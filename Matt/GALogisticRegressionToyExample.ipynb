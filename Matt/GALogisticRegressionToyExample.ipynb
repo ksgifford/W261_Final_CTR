{
 "cells": [
  {
   "cell_type": "markdown",
   "metadata": {},
   "source": [
    "# Gradient Ascent Toy Example\n",
    "\n",
    "### Code and data set was borrowed from:\n",
    "https://machinelearningmastery.com/implement-logistic-regression-stochastic-gradient-descent-scratch-python/\n",
    "\n",
    "### The algorithm was taken from:\n",
    "http://cs229.stanford.edu/notes/cs229-notes1.pdf"
   ]
  },
  {
   "cell_type": "code",
   "execution_count": 68,
   "metadata": {},
   "outputs": [],
   "source": [
    "import numpy as np\n",
    "import math\n",
    "from random import seed\n",
    "from random import randrange\n",
    "from csv import reader\n",
    "from math import exp\n",
    "from sklearn.preprocessing import MinMaxScaler"
   ]
  },
  {
   "cell_type": "code",
   "execution_count": 69,
   "metadata": {},
   "outputs": [],
   "source": [
    "# Load a CSV file\n",
    "def load_csv(filename):\n",
    "    dataset = list()\n",
    "    with open(filename, 'r') as file:\n",
    "        csv_reader = reader(file)\n",
    "        for row in csv_reader:\n",
    "            if not row:\n",
    "                continue\n",
    "            dataset.append(row)\n",
    "    return dataset\n",
    "\n",
    "# Convert string column to float\n",
    "def str_column_to_float(dataset, column):\n",
    "    for row in dataset:\n",
    "        row[column] = float(row[column].strip())"
   ]
  },
  {
   "cell_type": "code",
   "execution_count": 70,
   "metadata": {},
   "outputs": [],
   "source": [
    "# Test the logistic regression algorithm on the diabetes dataset\n",
    "seed(1)\n",
    "# load and prepare data\n",
    "filename = 'pima-indians-diabetes.csv'\n",
    "dataset = load_csv(filename)\n",
    "for i in range(len(dataset[0])):\n",
    "    str_column_to_float(dataset, i)"
   ]
  },
  {
   "cell_type": "code",
   "execution_count": 71,
   "metadata": {},
   "outputs": [],
   "source": [
    "# Note: the following code scales the output (y) - it shouldn't, but it is OK, as the results are 0/1\n",
    "\n",
    "scaler = MinMaxScaler()\n",
    "dataset = scaler.fit_transform(dataset)"
   ]
  },
  {
   "cell_type": "code",
   "execution_count": 72,
   "metadata": {},
   "outputs": [],
   "source": [
    "# Note: 'h_theta' calculates the predicted value.  This is using Andrew Ng's notation\n",
    "\n",
    "def h_theta(theta, x):\n",
    "    return 1.0 / (1 + math.exp(-np.dot(theta, x)))"
   ]
  },
  {
   "cell_type": "code",
   "execution_count": 73,
   "metadata": {},
   "outputs": [],
   "source": [
    "# Note: The gradient ascent equation is given in section 5 in Andrew Ng's CS229 Lecture notes\n",
    "\n",
    "def update_coefficients(x, y):\n",
    "    error = (y - h_theta(coefficients, x))\n",
    "    for idx in range(len(coefficients)):\n",
    "        coefficients[idx] = coefficients[idx] + alpha * error * x[idx]"
   ]
  },
  {
   "cell_type": "code",
   "execution_count": 74,
   "metadata": {},
   "outputs": [],
   "source": [
    "# Gradient Ascent\n",
    "def ga():\n",
    "\n",
    "    for epoch in range(epochs):\n",
    "        for row in dataset:\n",
    "            \n",
    "            # Augment x for the bias term\n",
    "            x = np.append([1.0], row[0:num_data_columns])\n",
    "            y = row[-1]\n",
    "            \n",
    "            update_coefficients(x,y)"
   ]
  },
  {
   "cell_type": "code",
   "execution_count": 75,
   "metadata": {},
   "outputs": [],
   "source": [
    "def evaluation_metrics(actual, predicted):\n",
    "    tp = 0\n",
    "    tn = 0\n",
    "    fp = 0\n",
    "    fn = 0\n",
    "    \n",
    "    for i in range(len(actual)):\n",
    "        if actual[i] == predicted[i]:\n",
    "            if actual[i] == 1:\n",
    "                tp += 1\n",
    "            else:\n",
    "                tn += 1\n",
    "        else:\n",
    "            if predicted[i] == 1:\n",
    "                fp += 1\n",
    "            else:\n",
    "                fn += 1\n",
    "                \n",
    "    # Accuracy - NOT RECOMMENDED FOR DATA THAT IS IMBALANCED\n",
    "    print('Accuracy: ', end='')\n",
    "    print( float(tp + tn)/(tp + tn + fp + fn))\n",
    "    \n",
    "    # Precision\n",
    "    print('Precision: ', end='')\n",
    "    print( float(tp)/(tp + fp))\n",
    "    \n",
    "    # Recall\n",
    "    print('Recall: ', end='')\n",
    "    print( float(tp)/(tp + fn))"
   ]
  },
  {
   "cell_type": "code",
   "execution_count": 76,
   "metadata": {},
   "outputs": [],
   "source": [
    "def calculate_metrics():\n",
    "    actual = []\n",
    "    predicted = []\n",
    "\n",
    "    for row in dataset:\n",
    "        \n",
    "        # Augment x for the bias term\n",
    "        x = np.append([1.0], row[0:num_data_columns])\n",
    "        y = row[-1]\n",
    "        \n",
    "        actual.append(y)\n",
    "        \n",
    "        predicted.append(float(h_theta(coefficients, x) > cutoff))\n",
    "\n",
    "    evaluation_metrics(actual, predicted)"
   ]
  },
  {
   "cell_type": "code",
   "execution_count": 78,
   "metadata": {},
   "outputs": [
    {
     "name": "stdout",
     "output_type": "stream",
     "text": [
      "Accuracy: 0.7721354166666666\n",
      "Precision: 0.7313432835820896\n",
      "Recall: 0.5485074626865671\n",
      "\n",
      "Coefficients: [-5.92927893  1.71416714  5.50448601 -1.45347747  0.20947524 -0.05889622\n",
      "  3.48687818  1.72296256  1.12250442]\n"
     ]
    }
   ],
   "source": [
    "# Learning rate\n",
    "alpha = 0.01\n",
    "\n",
    "# Where to specify the cutoff for 1/0 in logistic regression.\n",
    "# Adjust as necessary based on the ROC curve.\n",
    "cutoff = 0.5\n",
    "\n",
    "# Number of epochs\n",
    "epochs = 100\n",
    "\n",
    "num_data_columns = 8\n",
    "\n",
    "# Initialize coefficients to zero\n",
    "coefficients = np.zeros(num_data_columns + 1)\n",
    "\n",
    "# Gradient ascent\n",
    "ga()\n",
    "\n",
    "calculate_metrics()\n",
    "\n",
    "print()\n",
    "print('Coefficients: ', end='')\n",
    "print(coefficients)"
   ]
  },
  {
   "cell_type": "code",
   "execution_count": null,
   "metadata": {},
   "outputs": [],
   "source": []
  }
 ],
 "metadata": {
  "kernelspec": {
   "display_name": "Python 3",
   "language": "python",
   "name": "python3"
  },
  "language_info": {
   "codemirror_mode": {
    "name": "ipython",
    "version": 3
   },
   "file_extension": ".py",
   "mimetype": "text/x-python",
   "name": "python",
   "nbconvert_exporter": "python",
   "pygments_lexer": "ipython3",
   "version": "3.6.6"
  }
 },
 "nbformat": 4,
 "nbformat_minor": 2
}
