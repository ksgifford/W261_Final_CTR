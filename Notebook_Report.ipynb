{
 "cells": [
  {
   "cell_type": "code",
   "execution_count": 41,
   "metadata": {},
   "outputs": [],
   "source": [
    "from IPython.display import Image\n",
    "from IPython.core.display import HTML \n",
    "import numpy as np\n",
    "import matplotlib.pyplot as plt\n",
    "%matplotlib inline\n",
    "\n",
    "\n",
    "\n",
    "# ** WELL HAVE TO CHANGE THIS FOR THE CLUSTER\n",
    "from pyspark.sql import SparkSession\n",
    "app_name = \"hw3_notebook\"\n",
    "master = \"local[*]\"\n",
    "spark = SparkSession\\\n",
    "        .builder\\\n",
    "        .appName(app_name)\\\n",
    "        .master(master)\\\n",
    "        .getOrCreate()\n",
    "sc = spark.sparkContext\n",
    "\n",
    "\n",
    "TOYDATAFILE = './dac/trainpt1percentsample.txt'\n",
    "FIELDS = ['Label'] + ['I'+str(i) for i in range(1,14)] + ['C'+str(i) for i in range(1,27)]\n",
    "toyRDD = sc.textFile(TOYDATAFILE)"
   ]
  },
  {
   "cell_type": "code",
   "execution_count": 2,
   "metadata": {},
   "outputs": [],
   "source": [
    "def ConvertNumber(idx, num):\n",
    "    \"\"\"\n",
    "    convert hashes to ints\n",
    "    \"\"\"\n",
    "    if num != '':\n",
    "        if idx > 13:\n",
    "            return int(num, 16)\n",
    "        else:\n",
    "            return int(num)\n",
    "    else:\n",
    "        return np.nan\n",
    "\n",
    "def parse(line):\n",
    "    \"\"\"\n",
    "    Map tab separated record to tuple of (39 features, label)\n",
    "    \"\"\"\n",
    "    parsed = np.array([ConvertNumber(idx, num) for idx,num in enumerate(line.split('\\t'))])\n",
    "    features, label = parsed[1:], parsed[0]\n",
    "    return (features, label)\n",
    "\n",
    "def logloss(dataRDD, W):\n",
    "    augmentedData = dataRDD.map(lambda x: (np.append([1.0], x[0]), x[1]))\n",
    "    loss = (augmentedData.\n",
    "            map(lambda x: (np.clip(1 / (1 + np.exp(-1*W @ x[0])), 1e-15, 1.0 - 1e-15), x[1])).\n",
    "            map(lambda x: -1*np.log(x[0]) if x[1]==1.0 else -1*np.log(1-x[0])).mean())\n",
    "    return loss"
   ]
  },
  {
   "cell_type": "markdown",
   "metadata": {},
   "source": [
    "# Question Formulation\n",
    "\n",
    "## Why Predict Click Through Rate (CTR)?\n",
    "Display advertising is a multi-billion dollar industry. When a given company is deciding whether or not to buy ad space, they want to know how likely people are to click on those ads (prediction problem) and the advertiser like Criteo wants to have these predicts to back up their prices when selling ad space. Companies are also interested in what things they can change in order to get a higher click through rate. e.g., Should they use more personalization? Should they use brighter colors. A machine learning approach can help both better predictions and causal understanding.\n",
    "\n",
    "## The Data\n",
    "\n",
    "The data are a downsampled week's worth of ad-displays from CriteoLabs noting whether or not they were actually clicked. The downsampling makes it so we have a more balanced dataset with fewer non-click impressions.\n",
    "\n",
    "The dataset is large\n",
    "  - Training: 11GB\n",
    "  - Test: 1.5GB\n",
    "  \n",
    "There are 40 total tab separated fields\n",
    "  - The label (1 if clicked, 0 if not).\n",
    "  - 13 Integer fields\n",
    "  - 26 Categorical fields (hashed)"
   ]
  },
  {
   "cell_type": "code",
   "execution_count": 6,
   "metadata": {},
   "outputs": [
    {
     "name": "stdout",
     "output_type": "stream",
     "text": [
      "0\t1\t1\t5\t0\t1382\t4\t15\t2\t181\t1\t2\t\t2\t68fd1e64\t80e26c9b\tfb936136\t7b4723c4\t25c83c98\t7e0ccccf\tde7995b8\t1f89b562\ta73ee510\ta8cd5504\tb2cb9c98\t37c9c164\t2824a5f6\t1adce6ef\t8ba8b39a\t891b62e7\te5ba7672\tf54016b9\t21ddcdc9\tb1252a9d\t07b5194c\t\t3a171ecb\tc5c50484\te8b83407\t9727dd16\n"
     ]
    }
   ],
   "source": [
    "# Example rows:\n",
    "!head -n 1 ./dac/train.txt"
   ]
  },
  {
   "cell_type": "markdown",
   "metadata": {},
   "source": [
    "Though we are not told exactly what these fields correspond to, they belong to the following categories:\n",
    "  - Publisher features, such as the domain of the url where the ad was displayed;\n",
    "  - Advertiser features (advertiser id, type of products,…)\n",
    "  - User features, for instance browser type;\n",
    "  - Interaction of the user with the advertiser, such as the number of the times the user visited the advertiser website.\n",
    "\n",
    "If we had a model that told us which features were important, it would still be helpful to Criteo because they would be able to tell which of the above features they should focus on moving forward. For example, if browser type of Internet Explorer showed a much lower CTR than others, Criteo might explore that type and see there is a bug where ads are not displayed well.\n",
    "\n",
    "## Question (key goal)\n",
    "\n",
    "Our question is two fold\n",
    "1. What is our best guess of the CTR for a given set of features?\n",
    "2. Which features are most important in determining the CTR?\n",
    "\n",
    "We will use logloss, recall, and precision on a validation set as our standard for 1. and use logistic regression in order to have coefficients that will help us answer 2. \n",
    "\n",
    "Logloss is good metric because it penalizes classifiers that are very confident in incorrect predictions. Thus, when we are analyzing our results that have optimized logloss, we are more confident that we have a well-calibrated model (that as our predictions increase, so do the true probabilities). Recall will give us sense of how many of the clicks we actually capture, while precision will tell us how conservative our model is with predicting clicks. \n",
    "\n",
    "Improving prediction accuracy on a validation set from a baseline guess-the-mean strategy by a small amount, even ~0.5%, has significant consequences given the huge dollar base of this billion-dollar industry. "
   ]
  },
  {
   "cell_type": "markdown",
   "metadata": {},
   "source": [
    "# Algorithm Explanation\n",
    "\n",
    "An appropriate model to answer both of our key questions above is Logistic Regression. It is an intretatble binary classifer that often works well when we have a long feature vector with many one-hot encoded variables (e.g., it is often the go to for NLP basedline models with bag-of-words one hot encoding https://blog.insightdatascience.com/how-to-solve-90-of-nlp-problems-a-step-by-step-guide-fda605278e4e). \n",
    "\n",
    "## 1.  What is our best guess of the CTR for a given set of features?\n",
    "\n",
    "Logistic regression works similarly to linear regression, but instead of fitting a hyper-plane to a set of training points in the feature space, it fits a sigmoid function to a set of binary-class training examples. The value of the sigmoid function at a given point in the feature space is the predicted probability that a person has clicked on the ad in our analysis.\n",
    "\n",
    "This is an improvement over linear regression for classification because its predictions are restricted to be between 0 and 1 like probabilities should be.\n",
    "\n",
    "More formally, logistic regression models the log-odds of a click as a linear function of the features:\n",
    "\n",
    "$$\n",
    "\\ln\\frac{p}{1-p} = \\beta X + e\n",
    "$$\n",
    "\n",
    "Where $p$ is a vector of the probabilities that an ad is clicked, $\\beta$ is a vector of coefficients to be estimated that define the sigmoid function, $X$ is a matrix of features in our model, and $e$ is an error term."
   ]
  },
  {
   "cell_type": "code",
   "execution_count": 5,
   "metadata": {},
   "outputs": [
    {
     "data": {
      "text/html": [
       "<img src=\"https://www.saedsayad.com/images/LogReg_1.png\"/>"
      ],
      "text/plain": [
       "<IPython.core.display.Image object>"
      ]
     },
     "execution_count": 5,
     "metadata": {},
     "output_type": "execute_result"
    }
   ],
   "source": [
    "Image(url= \"https://www.saedsayad.com/images/LogReg_1.png\")"
   ]
  },
  {
   "cell_type": "markdown",
   "metadata": {},
   "source": [
    "Logisitic regression does assume that the data are linearly separable into the binary classes in the feature space, but this simple assumption is what gives us the great interpretability through coefficients. Even though this assumption doesn't perfectly hold (which means we will have some bias in our estimates), the simplicity of a linear model reduces the variance of our predicts as well. Also, given that we have a fairly large number of features, this linearity assumption may not cause too much bias in practice. Another assumption in logisitc regression is that all the points are indpendently generated. This is likely false again because some data points might come from the same customer coming back to the site and seeing the same add a second time. Even though all the feature (besides time) might be the same here, there is likely correlation between whether or not that customer will click. However, this assumption likely just increase the standard errors of our coefficients instead of biasing them."
   ]
  },
  {
   "cell_type": "markdown",
   "metadata": {},
   "source": [
    "### Maximum Likelihood Estimator (MLE)\n",
    "\n",
    "To estimate $\\beta$, we use the MLE. Logisitic regression assumes each label is independently drawn from a Bernoulli distribution with a probability that is a function of the features: $y_i \\sim Bernoulli(p(x_i))$. This translates to a likelihood across all $N$ datapoints of:\n",
    "\n",
    "$$\n",
    "L(\\beta) = \\Pi_{i=1}^{N} p(x_i)^{y_i}(1-p(x_i))^{1-y_i}\n",
    "$$\n",
    "\n",
    "Sums behave better than products, so we can use the monotonic log transform to make this likelihood better behaved. The log-likelihood is:\n",
    "\n",
    "$$\n",
    "l(\\beta) = \\sum_{i=1}^{N} y_i\\ln p(x_i) + (1-y_i)\\ln (1-p(x_i)) \\\\\n",
    "= \\sum_{i=1}^{N} y_i\\ln \\frac{p(x_i)}{1-p(x_i)} + \\ln (1-p(x_i))\n",
    "$$\n",
    "\n",
    "Then we can substitute $\\beta x_i$ in for the log odds and $\\frac{1}{1+e^{-\\beta x_i}}$ for $p$:\n",
    "\n",
    "$$\n",
    "= \\sum_{i=1}^{N} y_i \\beta x_i + \\ln (1-\\frac{1}{1+e^{-\\beta x_i}}) \\\\\n",
    "= \\sum_{i=1}^{N} y_i \\beta x_i + \\ln (\\frac{e^{-\\beta x_i}}{1+e^{-\\beta x_i}}) \\\\\n",
    "= \\sum_{i=1}^{N} y_i \\beta x_i - \\beta x_i - \\ln( 1+e^{-\\beta x_i}) \n",
    "$$\n",
    "\n",
    "This function has no closed-form maximum, so we use gradient ascent to climb the surface of $l$ in the space of $\\beta$. Differentiating the above with respect to $\\beta$ gives us the gradient.\n",
    "\n",
    "$$\n",
    "\\nabla_{\\beta} l = \\sum_{i=1}^{N} x_i y_i - x_i + \\frac{x_i e^{-\\beta x_i}}{1+e^{-\\beta x_i}} \\\\\n",
    "= x_i (y_i - \\frac{1}{1+e^{-\\beta x_i}})\n",
    "$$\n",
    "\n",
    "Then, our algorithm is as follows:\n",
    "\n",
    "1. Specify a baseline $\\hat{\\beta}$ as an initialization\n",
    "2. Calculate $\\frac{\\nabla_{\\beta} l}{N}$. Note here that each $i$'s contribution to the sum is independent, so we can distribute the work across a cluster to calculate the gradient in each iteration. We also change to the average contribution per $i$ by dividing by $N$ instead of using the sum. This way, the magnitude is not proportional to the number of data points and we can keep the same learning rate for any number of training points.\n",
    "3. Update $\\hat{\\beta} := \\hat{\\beta} + \\alpha \\frac{\\nabla_{\\beta} l}{N}$. Here $\\alpha$ is the learning rate.\n",
    "4. Repeat 2-3 for the specified number of iterations. (this could be improved to stop when the calculated gradient is small enough, but to keep things simple we have a fixed number of iterations).\n",
    "\n",
    "\n",
    "Luckily the log likelihood $l$ is a concave function, so we know that if we set our learning rate small enough, we will reach a global maximum. (see https://homes.cs.washington.edu/~marcotcr/blog/concavity/)\n",
    "\n",
    "This will be accomplished by the following function:"
   ]
  },
  {
   "cell_type": "code",
   "execution_count": 64,
   "metadata": {},
   "outputs": [],
   "source": [
    "def GDUpdate(dataRDD, W, learningRate = 0.05, regType = None, regParam = 0):\n",
    "    \"\"\"\n",
    "    Perform one gradient descent step/update.\n",
    "    Args:\n",
    "        dataRDD - records are tuples of (features_array, y)\n",
    "        W       - (array) model coefficients with bias at index 0\n",
    "    Returns:\n",
    "        new_model - (array) updated coefficients, bias at index 0\n",
    "    \"\"\"\n",
    "    # add a bias 'feature' of 1 at index 0\n",
    "    augmentedData = dataRDD.map(lambda x: (np.append([1.0], x[0]), x[1])).cache()\n",
    "    \n",
    "    \n",
    "    \n",
    "    # use negative log likelihood to keep it descent\n",
    "    grad = augmentedData.map(lambda x: -x[0]*(x[1] - (1/(1+np.exp(-1*np.dot(W, x[0])))))).mean()\n",
    "    if regType=='l1':\n",
    "        grad[1:] += 2 * regParam * W[1:]\n",
    "    elif regType=='l2':\n",
    "        grad[1:] += regParam * np.sign(W[1:])\n",
    "\n",
    "    new_model = W - learningRate * grad \n",
    "   \n",
    "    return new_model\n"
   ]
  },
  {
   "cell_type": "markdown",
   "metadata": {},
   "source": [
    "Just like linear regression, logistic regression can overfit to the training data if too many features are used. To adjust for this, we can use L1 or L2 regularization to select coefficients / keep coefficients small. To do so we can add a penalty to the log-likelihood to get a new function $J$ to climb:\n",
    "\n",
    "$$\n",
    "J = l(\\beta) - \\lambda penalty(\\beta)\n",
    "$$\n",
    "\n",
    "L2 Regularization would be \n",
    "\n",
    "$$\n",
    "J = l(\\beta) - \\lambda \\sum_{j=1}^{m} \\beta_j^2 \n",
    "$$\n",
    "\n",
    "with new corresponding gradient of:\n",
    "\n",
    "$$\n",
    "\\nabla_{\\beta} J = x_i (y_i - \\frac{1}{1+e^{-\\beta x_i}}) - 2 \\lambda \\beta_j\n",
    "$$\n",
    "\n",
    "L1 would be \n",
    "\n",
    "$$\n",
    "J = l(\\beta) - \\lambda \\sum_{j=1}^{m} |\\beta_j| \n",
    "$$\n",
    "\n",
    "with new corresponding gradient of:\n",
    "\n",
    "$$\n",
    "\\nabla_{\\beta} J = x_i (y_i - \\frac{1}{1+e^{-\\beta x_i}}) - \\lambda sign(\\beta_j)\n",
    "$$\n",
    "\n",
    "Our algorithm could use the adjusted $\\nabla_{\\beta} J$ instead of $\\nabla_{\\beta} l$ in steps 2 and 3 to avoid over-fitting or to choose which variables are important.\n",
    "\n",
    "Here $\\lambda$, the regularization parameter, controlls the level of regularization. The higher the value of $\\lambda$, the more bias we will add, but the less variance we will have."
   ]
  },
  {
   "cell_type": "markdown",
   "metadata": {},
   "source": [
    "### Predictions\n",
    "Once we have $\\hat{\\beta}$, to make predicted probabilities we solve for $p$ in the log odds formula above:\n",
    "$$\n",
    "\\hat{p} = \\frac{1}{1+e^{-\\hat{\\beta} x_i}}\n",
    "$$"
   ]
  },
  {
   "cell_type": "markdown",
   "metadata": {},
   "source": [
    "Then, our log loss metric is:\n",
    "$$\n",
    "logloss = \\frac{1}{N} \\sum_{i=1}^{N} -y_i \\log \\hat{p_i} - (1-y_i) \\log(1-\\hat{p_i})\n",
    "$$\n",
    "\n",
    "Again each $i$'s contribution to the logloss is independent so the calculation on a validation set can be distributed."
   ]
  },
  {
   "cell_type": "code",
   "execution_count": 40,
   "metadata": {},
   "outputs": [],
   "source": [
    "def logloss(dataRDD, W):\n",
    "    \"\"\"\n",
    "    Calculates the mean log loss from an RDD of (np.array features, labels)\n",
    "    and a weights array W\n",
    "    \"\"\"\n",
    "    augmentedData = dataRDD.map(lambda x: (np.append([1.0], x[0]), x[1]))\n",
    "    loss = (augmentedData.\n",
    "            map(lambda x: (np.clip(1 / (1 + np.exp(-1*W @ x[0])), 1e-15, 1.0 - 1e-15), x[1])).\n",
    "            map(lambda x: -1*np.log(x[0]) if x[1]==1.0 else -1*np.log(1-x[0])).mean())\n",
    "    return loss"
   ]
  },
  {
   "cell_type": "markdown",
   "metadata": {},
   "source": [
    "## 2. Which features are most important in determining the CTR?\n",
    "\n",
    "The estimated coefficients $\\hat{\\beta}$ also enable us to interpret the impact of a given feature. For the numeric features, the interpretation is that if the value of featuer $x_j$ increased by one (or if the standard deviation increased by one if normalized to unit variance), the log odds would be predicted to increase by $\\hat{\\beta_j}$. For features that are one-hot encoded (like our categorical features), $\\beta_j$ represents the increase in the log odds from going from the base category (the one category left out of the regression) to the category represented by a one in $x_j$. \n",
    "\n",
    "If we standardize all features, the ones with the highest magnitude coefficients could be considered to have the most impact of the probability of a click. \n"
   ]
  },
  {
   "cell_type": "markdown",
   "metadata": {},
   "source": [
    "## Toy Example without regularization\n",
    "\n",
    "To illustrate logistic regression, we use a 0.1% percent random sample from the training data created with `!shuf -n 45841 train.txt > trainpt1percentsample.txt`. We'll train a model:\n",
    "\n",
    "$$\n",
    "logoddsclick = \\beta_0 + \\beta_1 I_1 + \\beta_2 C_2\n",
    "$$\n",
    "\n",
    "Here $I$ is a numeric field from the data and $C$ is a categorical transformed into a binary flag (like a one hot encoding for a 2-valued categorical)."
   ]
  },
  {
   "cell_type": "code",
   "execution_count": 31,
   "metadata": {},
   "outputs": [],
   "source": [
    "# first get the data ready\n",
    "toyRDD_intermediate = (\n",
    "    toyRDD.map(parse) # parse the raw data\n",
    "    # pull one numeric and one categorical feature transformed into a binary indicator (like a one hot encoding)\n",
    "    .map(lambda x: (np.array([x[0][1], 0 if x[0][26] < 1 else 1]), x[1]))\n",
    ") \n",
    "# pull mean and standard deviation to standardize numeric feature later \n",
    "mean_numeric =  toyRDD_intermediate.map(lambda x: x[0][0]).mean()\n",
    "std_numeric =  toyRDD_intermediate.map(lambda x: x[0][0]).variance()**0.5   \n",
    "toytrainRDD, toyheldOutRDD =(\n",
    "    # standardize the numeric feature to stablize the algorithm\n",
    "    toyRDD_intermediate.map(lambda x: (np.array([(x[0][0] - mean_numeric)/std_numeric,x[0][1]]), x[1]))\n",
    "    # separate into train and validation sets\n",
    "    .randomSplit([0.8,0.2], seed = 1)\n",
    ")"
   ]
  },
  {
   "cell_type": "code",
   "execution_count": 52,
   "metadata": {},
   "outputs": [
    {
     "name": "stdout",
     "output_type": "stream",
     "text": [
      "Initial Model: [-1.0, -1.5, 0.1]\n",
      "Initial Train Loss = 0.673093259449749\n",
      "Initial Held-Out Loss = 0.6774833986160038\n",
      "-----------------------------------------------------\n",
      "iteration # 0\n",
      "New Model: [-1.082, -1.411, 0.018]\n",
      "Train Loss = 0.6554675536953056\n",
      "Held-Out Loss = 0.6595849855422558\n",
      "-----------------------------------------------------\n",
      "iteration # 1\n",
      "New Model: [-1.126, -1.33, -0.026]\n",
      "Train Loss = 0.6463127417271598\n",
      "Held-Out Loss = 0.6501576256516545\n",
      "-----------------------------------------------------\n",
      "iteration # 2\n",
      "New Model: [-1.149, -1.254, -0.049]\n",
      "Train Loss = 0.6398856840016004\n",
      "Held-Out Loss = 0.6435087839347325\n",
      "-----------------------------------------------------\n",
      "iteration # 3\n",
      "New Model: [-1.16, -1.181, -0.06]\n",
      "Train Loss = 0.6344722234885993\n",
      "Held-Out Loss = 0.6378745296155612\n",
      "-----------------------------------------------------\n",
      "iteration # 4\n",
      "New Model: [-1.165, -1.109, -0.065]\n",
      "Train Loss = 0.6294770195631495\n",
      "Held-Out Loss = 0.6326607903242772\n",
      "-----------------------------------------------------\n",
      "iteration # 5\n",
      "New Model: [-1.165, -1.039, -0.065]\n",
      "Train Loss = 0.6246903346014315\n",
      "Held-Out Loss = 0.6276588104668985\n",
      "-----------------------------------------------------\n",
      "iteration # 6\n",
      "New Model: [-1.163, -0.971, -0.063]\n",
      "Train Loss = 0.6200386224088442\n",
      "Held-Out Loss = 0.622795857104668\n",
      "-----------------------------------------------------\n",
      "iteration # 7\n",
      "New Model: [-1.159, -0.903, -0.059]\n",
      "Train Loss = 0.6154577584567439\n",
      "Held-Out Loss = 0.61804969729535\n",
      "-----------------------------------------------------\n",
      "iteration # 8\n",
      "New Model: [-1.154, -0.836, -0.054]\n",
      "Train Loss = 0.610962568821912\n",
      "Held-Out Loss = 0.6134178194861278\n",
      "-----------------------------------------------------\n",
      "iteration # 9\n",
      "New Model: [-1.149, -0.77, -0.049]\n",
      "Train Loss = 0.6065824855727087\n",
      "Held-Out Loss = 0.6089060976978429\n",
      "-----------------------------------------------------\n",
      "iteration # 10\n",
      "New Model: [-1.144, -0.705, -0.044]\n",
      "Train Loss = 0.6023272423617381\n",
      "Held-Out Loss = 0.604524651637536\n",
      "-----------------------------------------------------\n",
      "iteration # 11\n",
      "New Model: [-1.138, -0.641, -0.038]\n",
      "Train Loss = 0.5982095783928255\n",
      "Held-Out Loss = 0.600286450065883\n",
      "-----------------------------------------------------\n",
      "iteration # 12\n",
      "New Model: [-1.133, -0.578, -0.033]\n",
      "Train Loss = 0.5942449624280153\n",
      "Held-Out Loss = 0.5962069811605728\n",
      "-----------------------------------------------------\n",
      "iteration # 13\n",
      "New Model: [-1.127, -0.516, -0.027]\n",
      "Train Loss = 0.5904517436878772\n",
      "Held-Out Loss = 0.592304327460379\n",
      "-----------------------------------------------------\n",
      "iteration # 14\n",
      "New Model: [-1.122, -0.456, -0.022]\n",
      "Train Loss = 0.5868514179763182\n",
      "Held-Out Loss = 0.5885993412075089\n",
      "-----------------------------------------------------\n",
      "iteration # 15\n",
      "New Model: [-1.117, -0.398, -0.017]\n",
      "Train Loss = 0.5834687816208454\n",
      "Held-Out Loss = 0.5851157110003848\n",
      "-----------------------------------------------------\n",
      "iteration # 16\n",
      "New Model: [-1.113, -0.342, -0.013]\n",
      "Train Loss = 0.5803317052486374\n",
      "Held-Out Loss = 0.5818796869625096\n",
      "-----------------------------------------------------\n",
      "iteration # 17\n",
      "New Model: [-1.109, -0.288, -0.009]\n",
      "Train Loss = 0.5774701648336196\n",
      "Held-Out Loss = 0.5789191560431535\n",
      "-----------------------------------------------------\n",
      "iteration # 18\n",
      "New Model: [-1.105, -0.237, -0.005]\n",
      "Train Loss = 0.5749141013201075\n",
      "Held-Out Loss = 0.5762617009514631\n",
      "-----------------------------------------------------\n",
      "iteration # 19\n",
      "New Model: [-1.101, -0.189, -0.001]\n",
      "Train Loss = 0.5726897845046274\n",
      "Held-Out Loss = 0.5739313538295665\n"
     ]
    }
   ],
   "source": [
    "# train the logistic regression\n",
    "W = np.array([-1,-1.5,.1])\n",
    "print(f\"Initial Model: {[round(w,3) for w in W]}\")\n",
    "print(f\"Initial Train Loss = {logloss(toytrainRDD,W)}\")\n",
    "print(f\"Initial Held-Out Loss = {logloss(toyheldOutRDD,W)}\")\n",
    "n_iterations = 20\n",
    "for i in range(n_iterations):\n",
    "    print(\"-----------------------------------------------------\")\n",
    "    print(\"iteration # {}\".format(i))\n",
    "    W = GDUpdate(toytrainRDD, W, learningRate = 1)\n",
    "    print(f\"New Model: {[round(w,3) for w in W]}\")\n",
    "    print(f\"Train Loss = {logloss(toytrainRDD,W)}\")\n",
    "    print(f\"Held-Out Loss = {logloss(toyheldOutRDD,W)}\")"
   ]
  },
  {
   "cell_type": "markdown",
   "metadata": {},
   "source": [
    "The logloss gets lower as we climb the likelihood function.\n",
    "\n",
    "Our fit model is\n",
    "$$\n",
    "logoddsclick= -1.101 + -0.189 I_1 + -0.001 C_2\n",
    "$$\n",
    "\n",
    "So each standard deviation increase in $I$ makes the log-odds of a click predicted .189 lower and going from the category variable havign a value below 1 to above 1 hardly changes the log odds with a small .001 predicted decrease. We can visualize the predicted probability of our model for each value of $C_2$ across values of I:"
   ]
  },
  {
   "cell_type": "code",
   "execution_count": 55,
   "metadata": {},
   "outputs": [
    {
     "data": {
      "image/png": "[encoded data removed]",
      "text/plain": [
       "<Figure size 1080x360 with 2 Axes>"
      ]
     },
     "metadata": {},
     "output_type": "display_data"
    }
   ],
   "source": [
    "I = np.linspace(-20,20)\n",
    "P_C0 = 1/(1+np.exp(-(W[0]+W[1]*I)))\n",
    "P_C1 = 1/(1+np.exp(-(W[0]+W[1]*I+W[2])))\n",
    "\n",
    "# set up figure\n",
    "fig, (ax1, ax2) = plt.subplots(1,2, figsize = (15,5))\n",
    "\n",
    "ax1.plot(I,P_C0)\n",
    "ax1.set_title('Predicted Probability vs Value of Numeric Feature, Categorical Below 1', color='0.1')\n",
    "ax1.tick_params(axis='both', colors='0.1')\n",
    "ax1.grid(True)\n",
    "\n",
    "ax2.plot(I,P_C0)\n",
    "ax2.set_title('Predicted Probability vs Value of Numeric Feature, Categorical >= 1', color='0.1')\n",
    "ax2.tick_params(axis='both', colors='0.1')\n",
    "ax2.grid(True)\n",
    "\n",
    "plt.show()"
   ]
  },
  {
   "cell_type": "markdown",
   "metadata": {},
   "source": [
    "Both curves are bounded between 0 and 1 and decrease as $I_1$ increases. They are nearly identical curves because the coefficient on $C_2$ is small."
   ]
  },
  {
   "cell_type": "markdown",
   "metadata": {},
   "source": [
    "Though given our data above we don't seem to be overfitting because the training loss is close to the validation loss, we only have 2 features in this model. If we had many more regularization would make sense to keep coefficeint values small. For example, if we use L2 regularization instead we see the estimated coefficient values are all below 1 in magnitude:"
   ]
  },
  {
   "cell_type": "code",
   "execution_count": null,
   "metadata": {},
   "outputs": [],
   "source": []
  },
  {
   "cell_type": "markdown",
   "metadata": {},
   "source": [
    "# Application of Course Concepts\n",
    "\n",
    "This assignment encompasses a number of the key concepts of W261. \n",
    "\n",
    "## bias variance tradeoff / model complexity / regularization  / model assumptions\n",
    "Instead of using all parameters in our model, we balanced bias and variance by removing variables that were not important according to L1 regularization. This reduces the variance and increases the bias. Also, our general choice of a simple model (logistic regression) likely adds bias due to the linearly separable assumption, but reduces variance for the same reason.\n",
    "\n",
    "## GD - convex optimization / Batch / Normalization\n",
    "We have also implemented a scalable batch gradient descent approach. The approach is scalable because it distributes the task of calculating the gradient accross a cluster. Each data point's contribution to the gradient is independent so this calculation is embarrasingly parallel. We also know that if we set the learning rate small enough and have a large enough number of iterations, we will reach the coefficients that give the global maximum likelihood. This is because the log likelihood function we are climbing is concave such that there is only 1 global maximum and no local ones that we might accidentally end up in. Wihtout standardizing the variables, gradient descent becomes unstable. Thus, we used a distributed method to make all numeric variables have 0 mean and unit variance. \n",
    "\n",
    "Given that this dataset was a small subset of the data that would actually be used in practice, other methods would not be able to handle it like our method. For example, sequentially moving through the data on one node would take too long given that we would have to loop over it multiple times. Holding all the data in memory on a single node is also unreasonably expensive given that the real data likely has many billions of rows.\n",
    "\n",
    "## Caching and Broadcasting\n",
    "\n",
    "**(we should make sure we actually do use broadcasting and caching so this is true)**\n",
    "To make our computations faster, we cache the training data set so it is availble in memory for each iteration. We also broadcast the value of the coefficients so that they are available on all nodes in doing the gradient calculation and update. Without caching, a lot more time would be spent processing the data. Without broadcasting explicitly, the master node would have to do more work. With broadcasting, the worker nodes have the information they need locally.\n",
    "\n",
    "## One Hot Encoding / Feature Selection\n",
    "Given the high-cardinality categorical features of this dataset, we have needed to do a lot of feature selection. Our EDA informed which variables might be important. From there, we also used L1 regularization to see which coefficients dropped. At the same time, the cardinality of our categorical features means that we could not one hot encode all values. However, because we do not know the difference between the different values, the hashing trick to reduce dimensionality works well. Then we can one hot encode the categorical with its reduced cardinality having a column for each of the new values except one base value. Then, the coefficients on these one-hot encoding fields are the changes in log likelihood that occur if we move from the base value of the categorical variable to the value encoded in that column.\n",
    "\n",
    "## Spark vs Map Reduce\n",
    "\n",
    "We chose to do our implementation in Spark instead of Map Reduce. Spark is much more efficient when it comes to multi-pass computations like our iterative gradient calculations. Spark allows us to do our data transformations without requiring us to write to disk after each step. This heavy IO in the map reduce framework would make our data preparation phase much longer. "
   ]
  },
  {
   "cell_type": "markdown",
   "metadata": {},
   "source": [
    "# Conclusion\n",
    "\n",
    "In this project we have used data from Criteo Labs to train a logisitc regression that 1. predicts click through rates given available features and 2. gives us a high level understand of which features are more important in determining the predicted probability of a click. We conducted a thourough EDA indicating that many categorical variables had high cardinality and needed to be reduced to a smaller space before one hot encoding. Our algorithm's gradient descent implementation in Spark is scalable. We found a ** improvement over the baseline guess-the-mean strategy. Overall our methods illustrate a number of the key concepts covered in the course, which allow us to have a solution that scales to the true size of the data."
   ]
  },
  {
   "cell_type": "code",
   "execution_count": null,
   "metadata": {},
   "outputs": [],
   "source": []
  }
 ],
 "metadata": {
  "kernelspec": {
   "display_name": "Python 3",
   "language": "python",
   "name": "python3"
  },
  "language_info": {
   "codemirror_mode": {
    "name": "ipython",
    "version": 3
   },
   "file_extension": ".py",
   "mimetype": "text/x-python",
   "name": "python",
   "nbconvert_exporter": "python",
   "pygments_lexer": "ipython3",
   "version": "3.6.6"
  }
 },
 "nbformat": 4,
 "nbformat_minor": 2
}
